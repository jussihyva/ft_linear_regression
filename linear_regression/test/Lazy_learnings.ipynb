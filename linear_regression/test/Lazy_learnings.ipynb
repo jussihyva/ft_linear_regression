{
 "cells": [
  {
   "cell_type": "code",
   "execution_count": 44,
   "id": "c168a00a",
   "metadata": {},
   "outputs": [],
   "source": [
    "test1 = np.array([1,2,3,4])\n",
    "test2 = np.array([[1],[2],[3],[4]])"
   ]
  },
  {
   "cell_type": "code",
   "execution_count": 45,
   "id": "9fb59b48",
   "metadata": {},
   "outputs": [
    {
     "name": "stdout",
     "output_type": "stream",
     "text": [
      "[1 2 3 4]\n",
      "[[1]\n",
      " [2]\n",
      " [3]\n",
      " [4]]\n"
     ]
    }
   ],
   "source": [
    "print(test1)\n",
    "print(test2)"
   ]
  },
  {
   "cell_type": "code",
   "execution_count": 46,
   "id": "579d2881",
   "metadata": {},
   "outputs": [
    {
     "name": "stdout",
     "output_type": "stream",
     "text": [
      "[1 2 3 4]\n",
      "[[1 2 3 4]]\n",
      "4\n"
     ]
    }
   ],
   "source": [
    "print(test1.T)\n",
    "print(test2.T)\n",
    "print(test2.T[0][3])"
   ]
  },
  {
   "cell_type": "code",
   "execution_count": 47,
   "id": "6e5cc363",
   "metadata": {},
   "outputs": [
    {
     "data": {
      "text/plain": [
       "array([[1],\n",
       "       [2],\n",
       "       [3],\n",
       "       [4]])"
      ]
     },
     "execution_count": 47,
     "metadata": {},
     "output_type": "execute_result"
    }
   ],
   "source": [
    "np.c_[test1]"
   ]
  },
  {
   "cell_type": "code",
   "execution_count": 48,
   "id": "118a7791",
   "metadata": {},
   "outputs": [],
   "source": [
    "test3 = np.array([1.4 + 1.0j], dtype=complex)\n",
    "test4 = np.array([1.4 + 1.0j], dtype=complex)"
   ]
  },
  {
   "cell_type": "code",
   "execution_count": 49,
   "id": "8d441ed3",
   "metadata": {},
   "outputs": [
    {
     "data": {
      "text/plain": [
       "array([0.96+2.8j])"
      ]
     },
     "execution_count": 49,
     "metadata": {},
     "output_type": "execute_result"
    }
   ],
   "source": [
    "test3 * test4"
   ]
  },
  {
   "cell_type": "code",
   "execution_count": null,
   "id": "4ea4bf53",
   "metadata": {},
   "outputs": [],
   "source": []
  }
 ],
 "metadata": {
  "kernelspec": {
   "display_name": "Python 3 (ipykernel)",
   "language": "python",
   "name": "python3"
  },
  "language_info": {
   "codemirror_mode": {
    "name": "ipython",
    "version": 3
   },
   "file_extension": ".py",
   "mimetype": "text/x-python",
   "name": "python",
   "nbconvert_exporter": "python",
   "pygments_lexer": "ipython3",
   "version": "3.9.5"
  }
 },
 "nbformat": 4,
 "nbformat_minor": 5
}
