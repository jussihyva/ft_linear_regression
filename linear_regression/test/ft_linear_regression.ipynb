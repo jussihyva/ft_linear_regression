{
 "cells": [
  {
   "cell_type": "code",
   "execution_count": 1,
   "id": "0c0278ac",
   "metadata": {},
   "outputs": [],
   "source": [
    "import numpy as np\n",
    "import matplotlib.pyplot as plt"
   ]
  },
  {
   "cell_type": "code",
   "execution_count": 2,
   "id": "ff243605",
   "metadata": {},
   "outputs": [],
   "source": [
    "x = np.random.uniform(-4,4,500)       \n",
    "y = x + np.random.standard_normal(500)+2.5"
   ]
  },
  {
   "cell_type": "code",
   "execution_count": null,
   "id": "a13dc437",
   "metadata": {},
   "outputs": [],
   "source": []
  },
  {
   "cell_type": "code",
   "execution_count": 3,
   "id": "f2d07a7b",
   "metadata": {},
   "outputs": [],
   "source": [
    "x_orig = np.array([61789, 22899, 68500, 54000, 65674, 60949, 93000, 48235, 76025, 67000, 97500, 74000, 63060, 82029, 84000, 144500, 89000, 166800, 114800, 176000, 185530, 150500, 139800, 240000])\n",
    "y_orig = np.array([8290, 7990, 7990, 7990, 7555, 7490, 6990, 6900, 6900, 6800, 6800, 6600, 6390, 6390, 6200, 5999, 5990, 5800, 5350, 5250, 4450, 4400, 3800, 3650])\n",
    "\n"
   ]
  },
  {
   "cell_type": "code",
   "execution_count": 4,
   "id": "eee87a12",
   "metadata": {},
   "outputs": [],
   "source": [
    "x = np.array([1.00, 0.54, 0.59, 0.75, 0.71, 0.42, 0.66, 0.30, 0.56, 0.28, 0.27, 0.18, 0.24, 0.34, 0.20, 0.24, 0.12, 0.32, 0.18, 0.20, 0.14, 0.21, 0.00, 0.18])\n",
    "y = np.array([0.00, 0.03, 0.16, 0.17, 0.34, 0.37, 0.46, 0.50, 0.51, 0.55, 0.59, 0.59, 0.64, 0.68, 0.68, 0.70, 0.70, 0.72, 0.83, 0.84, 0.94, 0.94, 0.94, 1.00])\n"
   ]
  },
  {
   "cell_type": "code",
   "execution_count": 5,
   "id": "7eb60893",
   "metadata": {},
   "outputs": [
    {
     "data": {
      "text/plain": [
       "array([0.  , 0.03, 0.16, 0.17, 0.34, 0.37, 0.46, 0.5 , 0.51, 0.55, 0.59,\n",
       "       0.59, 0.64, 0.68, 0.68, 0.7 , 0.7 , 0.72, 0.83, 0.84, 0.94, 0.94,\n",
       "       0.94, 1.  ])"
      ]
     },
     "execution_count": 5,
     "metadata": {},
     "output_type": "execute_result"
    }
   ],
   "source": [
    "y"
   ]
  },
  {
   "cell_type": "code",
   "execution_count": 6,
   "id": "11402650",
   "metadata": {},
   "outputs": [
    {
     "data": {
      "image/png": "[encoded data removed]",
      "text/plain": [
       "<Figure size 432x288 with 1 Axes>"
      ]
     },
     "metadata": {
      "needs_background": "light"
     },
     "output_type": "display_data"
    }
   ],
   "source": [
    "plt.plot(x, y, 'o')\n",
    "plt.show()"
   ]
  },
  {
   "cell_type": "code",
   "execution_count": 7,
   "id": "05afdd6c",
   "metadata": {},
   "outputs": [],
   "source": [
    "def cost(X, Y, theta):\n",
    "    J=np.dot((np.dot(X,theta) - Y).T,(np.dot(X,theta) - Y))/(2*len(Y))\n",
    "    return J\n",
    "\n",
    "def cost_2(Y, error):\n",
    "    J = (error.T).dot(error)/(2*len(Y))\n",
    "#     print(J)\n",
    "    return J\n"
   ]
  },
  {
   "cell_type": "code",
   "execution_count": 8,
   "id": "b432f57b",
   "metadata": {},
   "outputs": [
    {
     "data": {
      "image/png": "[encoded data removed]",
      "text/plain": [
       "<Figure size 432x288 with 1 Axes>"
      ]
     },
     "metadata": {
      "needs_background": "light"
     },
     "output_type": "display_data"
    },
    {
     "name": "stdout",
     "output_type": "stream",
     "text": [
      "[[0.23268144]\n",
      " [0.05444375]]\n"
     ]
    }
   ],
   "source": [
    "# In this solution calculation of a variable (b) fails.\n",
    "# the value is extremely high and that leads wrong result.\n",
    "\n",
    "\n",
    "plt.plot(x, y, 'o')\n",
    "\n",
    "alpha = 0.1 # Specify the learning rate\n",
    "theta =  np.array([[0,0]]).T # Initial values of theta\n",
    "\n",
    "X = np.c_[np.ones(len(x)),x]\n",
    "Y = np.c_[y]\n",
    "X_1=np.c_[x].T\n",
    "num_iters = 5\n",
    "cost_history=[]\n",
    "theta_history=[]\n",
    "for i in range(num_iters):\n",
    "    a=np.sum(theta[0] - alpha * (1/len(Y)) * np.sum((np.dot(X,theta)- Y)))\n",
    "    b=np.sum(theta[1] - alpha * (1/len(Y)) * np.sum(np.dot(X_1,(np.dot(X,theta)-Y))))\n",
    "    theta= np.array([[a],[b]])\n",
    "    cost_history.append(cost(X,Y,theta))\n",
    "    theta_history.append(theta)\n",
    "    if i in (1,3,7,10,14,num_iters):\n",
    "#         plt.plot(x, a+x*b)\n",
    "        plt.suptitle('Linear regression by gradient descent')\n",
    "        plt.xlabel('x')\n",
    "        plt.ylabel('y')\n",
    "plt.show()\n",
    "print(theta)"
   ]
  },
  {
   "cell_type": "code",
   "execution_count": 17,
   "id": "f5086118",
   "metadata": {
    "scrolled": false
   },
   "outputs": [
    {
     "data": {
      "image/png": "[encoded data removed]",
      "text/plain": [
       "<Figure size 432x288 with 1 Axes>"
      ]
     },
     "metadata": {
      "needs_background": "light"
     },
     "output_type": "display_data"
    },
    {
     "name": "stdout",
     "output_type": "stream",
     "text": [
      "[[ 8.01338092e+03]\n",
      " [-1.00686114e+00]]\n"
     ]
    }
   ],
   "source": [
    "min_x = np.min(x_orig)\n",
    "max_x = np.max(x_orig)\n",
    "min_y = np.min(y_orig)\n",
    "max_y = np.max(y_orig)\n",
    "value_range_x = max_x - min_x\n",
    "value_range_y = max_y - min_y\n",
    "\n",
    "plt.plot(min_x + x * value_range_x, min_y + y * value_range_y, 'x')\n",
    "\n",
    "alpha = 0.8 # Specify the learning rate\n",
    "theta =  np.array([[0.4,-0.4]]).T # Initial values of theta\n",
    "\n",
    "X = np.c_[np.ones(len(x)),x]\n",
    "Y = np.c_[y]\n",
    "X_1=np.c_[x].T\n",
    "num_iters = 4000\n",
    "cost_history=[]\n",
    "theta_history=[]\n",
    "# plt.plot(min_x + x * value_range_x, min_y + (theta[0] + x * theta[1]) * value_range_y)\n",
    "for i in range(num_iters):\n",
    "    predicted_Y = X.dot(theta)\n",
    "#     print(predicted_Y.T)\n",
    "    error = predicted_Y - Y\n",
    "#     print(error.T)\n",
    "#     print(np.sum(error))\n",
    "    a = (theta[0] - alpha * (1/len(Y)) * np.sum(error)).item()\n",
    "    b = (theta[1] - alpha * (1/len(Y)) * np.sum(X_1.dot(error))).item()\n",
    "#     print(\"A: \" + str(a))\n",
    "#     print(\"B: \" + str(b))\n",
    "    cost_history.append(cost_2(Y, error))\n",
    "    theta_history.append(theta)\n",
    "    theta = np.array([[a],[b]])\n",
    "    if i in (110, 111, num_iters - 1):\n",
    "        plt.plot(min_x + x * value_range_x, min_y + (a+x*b) * value_range_y)\n",
    "    elif i in range(110, num_iters, 1000):\n",
    "        plt.plot(min_x + x * value_range_x, min_y + (a+x*b) * value_range_y)\n",
    "plt.suptitle('Linear regression by gradient descent')\n",
    "plt.xlabel('x')\n",
    "plt.ylabel('y')\n",
    "plt.show()\n",
    "theta[0] = min_y + theta[0].dot(value_range_y)\n",
    "print(theta)\n",
    "\n",
    "# -0.400 0.015 -0.029 -0.174 -0.135 0.119 -0.097 0.226 -0.004 0.247\n",
    "#  0.255 0.334  0.288  0.191  0.317 0.280  0.395 0.209  0.342 0.323\n",
    "#  0.371 0.311 0.500 0.339\n",
    "\n",
    "# -0.400 -0.031 -0.070 -0.199 -0.164 0.061 -0.130 0.156 -0.048 0.175\n",
    "#  0.182 0.252 0.212 0.125 0.237 0.204 0.307 0.142 0.260 0.242\n",
    "#  0.285 0.232 0.400 0.257\n",
    "\n",
    "\n",
    "# response_variable:\n",
    "# -0.400 -0.031 -0.070 -0.199 -0.164 0.061 -0.130 0.156 -0.048 0.175\n",
    "#  0.182 0.252 0.212 0.125 0.237 0.204 0.307 0.142 0.260 0.242\n",
    "#  0.285 0.232 0.400 0.257\n",
    "\n",
    "# Error:\n",
    "# -0.400 -0.063 -0.232 -0.372 -0.509 -0.305 -0.594 -0.348 -0.554 -0.375\n",
    "# -0.408 -0.339 -0.424 -0.554 -0.441 -0.496 -0.394 -0.578 -0.568 -0.599\n",
    "# -0.650 -0.703 -0.535 -0.743\n"
   ]
  },
  {
   "cell_type": "code",
   "execution_count": null,
   "id": "a60b091f",
   "metadata": {},
   "outputs": [],
   "source": []
  },
  {
   "cell_type": "code",
   "execution_count": 10,
   "id": "a8402d55",
   "metadata": {},
   "outputs": [
    {
     "name": "stdout",
     "output_type": "stream",
     "text": [
      "[[0.  ]\n",
      " [0.03]\n",
      " [0.16]\n",
      " [0.17]\n",
      " [0.34]\n",
      " [0.37]\n",
      " [0.46]\n",
      " [0.5 ]\n",
      " [0.51]\n",
      " [0.55]\n",
      " [0.59]\n",
      " [0.59]\n",
      " [0.64]\n",
      " [0.68]\n",
      " [0.68]\n",
      " [0.7 ]\n",
      " [0.7 ]\n",
      " [0.72]\n",
      " [0.83]\n",
      " [0.84]\n",
      " [0.94]\n",
      " [0.94]\n",
      " [0.94]\n",
      " [1.  ]]\n",
      "[0.   0.03 0.16 0.17 0.34 0.37 0.46 0.5  0.51 0.55 0.59 0.59 0.64 0.68\n",
      " 0.68 0.7  0.7  0.72 0.83 0.84 0.94 0.94 0.94 1.  ]\n",
      "[[0.   0.03 0.16 0.17 0.34 0.37 0.46 0.5  0.51 0.55 0.59 0.59 0.64 0.68\n",
      "  0.68 0.7  0.7  0.72 0.83 0.84 0.94 0.94 0.94 1.  ]]\n",
      "[[ 7.66824000e+03]\n",
      " [-6.44143333e-01]]\n"
     ]
    }
   ],
   "source": [
    "print(Y)\n",
    "print(y)\n",
    "print(Y.T)\n",
    "print(theta)\n"
   ]
  },
  {
   "cell_type": "code",
   "execution_count": 17,
   "id": "d2a80173",
   "metadata": {},
   "outputs": [],
   "source": [
    "test = np.array([[1],[2],[3],[4]])"
   ]
  },
  {
   "cell_type": "code",
   "execution_count": 21,
   "id": "1588ae90",
   "metadata": {},
   "outputs": [
    {
     "data": {
      "text/plain": [
       "array([[0.5],\n",
       "       [2. ],\n",
       "       [4.5],\n",
       "       [8. ]])"
      ]
     },
     "execution_count": 21,
     "metadata": {},
     "output_type": "execute_result"
    }
   ],
   "source": [
    "np.power(test, 2) / 2"
   ]
  },
  {
   "cell_type": "code",
   "execution_count": 20,
   "id": "8534bf61",
   "metadata": {},
   "outputs": [
    {
     "data": {
      "text/plain": [
       "array([[1],\n",
       "       [2],\n",
       "       [3],\n",
       "       [4]])"
      ]
     },
     "execution_count": 20,
     "metadata": {},
     "output_type": "execute_result"
    }
   ],
   "source": [
    "test"
   ]
  },
  {
   "cell_type": "code",
   "execution_count": 17,
   "id": "bc1e7e67",
   "metadata": {},
   "outputs": [
    {
     "data": {
      "text/plain": [
       "10"
      ]
     },
     "execution_count": 17,
     "metadata": {},
     "output_type": "execute_result"
    }
   ],
   "source": [
    "np.sum([[1,2],[3,4]])"
   ]
  },
  {
   "cell_type": "code",
   "execution_count": null,
   "id": "0110446f",
   "metadata": {},
   "outputs": [],
   "source": []
  }
 ],
 "metadata": {
  "kernelspec": {
   "display_name": "Python 3 (ipykernel)",
   "language": "python",
   "name": "python3"
  },
  "language_info": {
   "codemirror_mode": {
    "name": "ipython",
    "version": 3
   },
   "file_extension": ".py",
   "mimetype": "text/x-python",
   "name": "python",
   "nbconvert_exporter": "python",
   "pygments_lexer": "ipython3",
   "version": "3.8.10"
  }
 },
 "nbformat": 4,
 "nbformat_minor": 5
}
