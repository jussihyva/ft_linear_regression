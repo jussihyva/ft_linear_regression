{
 "cells": [
  {
   "cell_type": "code",
   "execution_count": 2,
   "id": "a8a8bfd1",
   "metadata": {},
   "outputs": [],
   "source": [
    "import numpy as np"
   ]
  },
  {
   "cell_type": "code",
   "execution_count": 44,
   "id": "c168a00a",
   "metadata": {},
   "outputs": [],
   "source": [
    "test1 = np.array([1,2,3,4])\n",
    "test2 = np.array([[1],[2],[3],[4]])"
   ]
  },
  {
   "cell_type": "code",
   "execution_count": 45,
   "id": "9fb59b48",
   "metadata": {},
   "outputs": [
    {
     "name": "stdout",
     "output_type": "stream",
     "text": [
      "[1 2 3 4]\n",
      "[[1]\n",
      " [2]\n",
      " [3]\n",
      " [4]]\n"
     ]
    }
   ],
   "source": [
    "print(test1)\n",
    "print(test2)"
   ]
  },
  {
   "cell_type": "code",
   "execution_count": 46,
   "id": "579d2881",
   "metadata": {},
   "outputs": [
    {
     "name": "stdout",
     "output_type": "stream",
     "text": [
      "[1 2 3 4]\n",
      "[[1 2 3 4]]\n",
      "4\n"
     ]
    }
   ],
   "source": [
    "print(test1.T)\n",
    "print(test2.T)\n",
    "print(test2.T[0][3])"
   ]
  },
  {
   "cell_type": "code",
   "execution_count": 47,
   "id": "6e5cc363",
   "metadata": {},
   "outputs": [
    {
     "data": {
      "text/plain": [
       "array([[1],\n",
       "       [2],\n",
       "       [3],\n",
       "       [4]])"
      ]
     },
     "execution_count": 47,
     "metadata": {},
     "output_type": "execute_result"
    }
   ],
   "source": [
    "np.c_[test1]"
   ]
  },
  {
   "cell_type": "code",
   "execution_count": 48,
   "id": "118a7791",
   "metadata": {},
   "outputs": [],
   "source": [
    "test3 = np.array([1.4 + 1.0j], dtype=complex)\n",
    "test4 = np.array([1.4 + 1.0j], dtype=complex)"
   ]
  },
  {
   "cell_type": "code",
   "execution_count": 49,
   "id": "8d441ed3",
   "metadata": {},
   "outputs": [
    {
     "data": {
      "text/plain": [
       "array([0.96+2.8j])"
      ]
     },
     "execution_count": 49,
     "metadata": {},
     "output_type": "execute_result"
    }
   ],
   "source": [
    "test3 * test4"
   ]
  },
  {
   "cell_type": "code",
   "execution_count": 8,
   "id": "4ea4bf53",
   "metadata": {},
   "outputs": [],
   "source": [
    "test1 = np.array([[1,2]])\n",
    "test2 = np.array([[2,3]])\n"
   ]
  },
  {
   "cell_type": "code",
   "execution_count": 9,
   "id": "960c05c4",
   "metadata": {},
   "outputs": [
    {
     "data": {
      "text/plain": [
       "array([[2, 6]])"
      ]
     },
     "execution_count": 9,
     "metadata": {},
     "output_type": "execute_result"
    }
   ],
   "source": [
    "test1 * test2"
   ]
  },
  {
   "cell_type": "code",
   "execution_count": 10,
   "id": "c5208006",
   "metadata": {},
   "outputs": [
    {
     "ename": "ValueError",
     "evalue": "shapes (1,2) and (1,2) not aligned: 2 (dim 1) != 1 (dim 0)",
     "output_type": "error",
     "traceback": [
      "\u001b[0;31m---------------------------------------------------------------------------\u001b[0m",
      "\u001b[0;31mValueError\u001b[0m                                Traceback (most recent call last)",
      "\u001b[0;32m/tmp/ipykernel_924851/2648826969.py\u001b[0m in \u001b[0;36m<module>\u001b[0;34m\u001b[0m\n\u001b[0;32m----> 1\u001b[0;31m \u001b[0mnp\u001b[0m\u001b[0;34m.\u001b[0m\u001b[0mdot\u001b[0m\u001b[0;34m(\u001b[0m\u001b[0mtest1\u001b[0m\u001b[0;34m,\u001b[0m \u001b[0mtest2\u001b[0m\u001b[0;34m)\u001b[0m\u001b[0;34m\u001b[0m\u001b[0;34m\u001b[0m\u001b[0m\n\u001b[0m",
      "\u001b[0;32m<__array_function__ internals>\u001b[0m in \u001b[0;36mdot\u001b[0;34m(*args, **kwargs)\u001b[0m\n",
      "\u001b[0;31mValueError\u001b[0m: shapes (1,2) and (1,2) not aligned: 2 (dim 1) != 1 (dim 0)"
     ]
    }
   ],
   "source": [
    "np.dot(test1, test2)"
   ]
  },
  {
   "cell_type": "code",
   "execution_count": 15,
   "id": "d7d5a6a3",
   "metadata": {},
   "outputs": [
    {
     "data": {
      "text/plain": [
       "array([[2, 4],\n",
       "       [3, 6]])"
      ]
     },
     "execution_count": 15,
     "metadata": {},
     "output_type": "execute_result"
    }
   ],
   "source": [
    "np.multiply(test1, test2.T)"
   ]
  },
  {
   "cell_type": "code",
   "execution_count": 12,
   "id": "7dc0f375",
   "metadata": {},
   "outputs": [
    {
     "data": {
      "text/plain": [
       "array([[1],\n",
       "       [2]])"
      ]
     },
     "execution_count": 12,
     "metadata": {},
     "output_type": "execute_result"
    }
   ],
   "source": [
    "test1.T"
   ]
  },
  {
   "cell_type": "code",
   "execution_count": 17,
   "id": "09e783bc",
   "metadata": {},
   "outputs": [
    {
     "ename": "SyntaxError",
     "evalue": "invalid syntax (2860004877.py, line 1)",
     "output_type": "error",
     "traceback": [
      "\u001b[0;36m  File \u001b[0;32m\"/tmp/ipykernel_924851/2860004877.py\"\u001b[0;36m, line \u001b[0;32m1\u001b[0m\n\u001b[0;31m    c = np.array([[0 1 2][3 4 5][6 7 8]])\u001b[0m\n\u001b[0m                     ^\u001b[0m\n\u001b[0;31mSyntaxError\u001b[0m\u001b[0;31m:\u001b[0m invalid syntax\n"
     ]
    }
   ],
   "source": [
    "c = np.array([[0 1 2][3 4 5][6 7 8]])\n",
    "d = np.array([[0 1 2]])"
   ]
  },
  {
   "cell_type": "code",
   "execution_count": null,
   "id": "d4b8ee8e",
   "metadata": {},
   "outputs": [],
   "source": []
  }
 ],
 "metadata": {
  "kernelspec": {
   "display_name": "Python 3 (ipykernel)",
   "language": "python",
   "name": "python3"
  },
  "language_info": {
   "codemirror_mode": {
    "name": "ipython",
    "version": 3
   },
   "file_extension": ".py",
   "mimetype": "text/x-python",
   "name": "python",
   "nbconvert_exporter": "python",
   "pygments_lexer": "ipython3",
   "version": "3.8.10"
  }
 },
 "nbformat": 4,
 "nbformat_minor": 5
}
