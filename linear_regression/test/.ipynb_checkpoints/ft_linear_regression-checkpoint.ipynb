{
 "cells": [
  {
   "cell_type": "code",
   "execution_count": 43,
   "id": "0c0278ac",
   "metadata": {},
   "outputs": [],
   "source": [
    "import numpy as np\n",
    "import matplotlib.pyplot as plt"
   ]
  },
  {
   "cell_type": "code",
   "execution_count": 44,
   "id": "ff243605",
   "metadata": {},
   "outputs": [],
   "source": [
    "# x = np.random.uniform(-4,4,500)       \n",
    "# y = x + np.random.standard_normal(500)+2.5"
   ]
  },
  {
   "cell_type": "code",
   "execution_count": null,
   "id": "a13dc437",
   "metadata": {},
   "outputs": [],
   "source": []
  },
  {
   "cell_type": "code",
   "execution_count": 48,
   "id": "f2d07a7b",
   "metadata": {},
   "outputs": [],
   "source": [
    "x = np.array([61789, 22899, 68500, 54000, 65674, 60949, 93000, 48235, 76025, 67000, 97500, 74000, 63060, 82029, 84000, 144500, 89000, 166800, 114800, 176000, 185530, 150500, 139800, 240000])\n",
    "y = np.array([8290, 7990, 7990, 7990, 7555, 7490, 6990, 6900, 6900, 6800, 6800, 6600, 6390, 6390, 6200, 5999, 5990, 5800, 5350, 5250, 4450, 4400, 3800, 3650])\n"
   ]
  },
  {
   "cell_type": "code",
   "execution_count": 49,
   "id": "7eb60893",
   "metadata": {},
   "outputs": [
    {
     "data": {
      "text/plain": [
       "24"
      ]
     },
     "execution_count": 49,
     "metadata": {},
     "output_type": "execute_result"
    }
   ],
   "source": [
    "len(x)"
   ]
  },
  {
   "cell_type": "code",
   "execution_count": 50,
   "id": "11402650",
   "metadata": {},
   "outputs": [
    {
     "data": {
      "image/png": "[encoded data removed]",
      "text/plain": [
       "<Figure size 432x288 with 1 Axes>"
      ]
     },
     "metadata": {
      "needs_background": "light"
     },
     "output_type": "display_data"
    }
   ],
   "source": [
    "plt.plot(x, y, 'o')\n",
    "plt.show()"
   ]
  },
  {
   "cell_type": "code",
   "execution_count": 51,
   "id": "05afdd6c",
   "metadata": {},
   "outputs": [],
   "source": [
    "def cost(X, Y, theta):\n",
    "    J=np.dot((np.dot(X,theta) - Y).T,(np.dot(X,theta) - Y))/(2*len(Y))\n",
    "    return J\n"
   ]
  },
  {
   "cell_type": "code",
   "execution_count": 149,
   "id": "b432f57b",
   "metadata": {},
   "outputs": [
    {
     "data": {
      "image/png": "[encoded data removed]",
      "text/plain": [
       "<Figure size 432x288 with 1 Axes>"
      ]
     },
     "metadata": {
      "needs_background": "light"
     },
     "output_type": "display_data"
    },
    {
     "name": "stdout",
     "output_type": "stream",
     "text": [
      "[[-4.44361311e+84]\n",
      " [-5.66007072e+89]]\n"
     ]
    }
   ],
   "source": [
    "# In this solution calculation of a variable (b) fails.\n",
    "# the value is extremely high and that leads wrong result.\n",
    "\n",
    "\n",
    "plt.plot(x, y, 'o')\n",
    "\n",
    "alpha = 0.1 # Specify the learning rate\n",
    "theta =  np.array([[0,0]]).T # Initial values of theta\n",
    "\n",
    "X = np.c_[np.ones(len(x)),x]\n",
    "Y = np.c_[y]\n",
    "X_1=np.c_[x].T\n",
    "num_iters = 10\n",
    "cost_history=[]\n",
    "theta_history=[]\n",
    "for i in range(num_iters):\n",
    "    a=np.sum(theta[0] - alpha * (1/len(Y)) * np.sum((np.dot(X,theta)- Y)))\n",
    "    b=np.sum(theta[1] - alpha * (1/len(Y)) * np.sum(np.dot(X_1,(np.dot(X,theta)-Y))))\n",
    "    theta= np.array([[a],[b]])\n",
    "    cost_history.append(cost(X,Y,theta))\n",
    "    theta_history.append(theta)\n",
    "    if i in (1,3,7,10,14,num_iters): \n",
    "#         plt.plot(x, a+x*b)\n",
    "        plt.suptitle('Linear regression by gradient descent')\n",
    "        plt.xlabel('x')\n",
    "        plt.ylabel('y')\n",
    "plt.show()\n",
    "print(theta)"
   ]
  },
  {
   "cell_type": "code",
   "execution_count": 162,
   "id": "f5086118",
   "metadata": {
    "scrolled": false
   },
   "outputs": [
    {
     "name": "stdout",
     "output_type": "stream",
     "text": [
      "[0 0]\n",
      "theta\n",
      "[0 0]\n",
      "E\n",
      "ccccc\n",
      "[-8290. -7990. -7990. -7990. -7555. -7490. -6990. -6900. -6900. -6800.\n",
      " -6800. -6600. -6390. -6390. -6200. -5999. -5990. -5800. -5350. -5250.\n",
      " -4450. -4400. -3800. -3650.]\n",
      "E\n",
      "b\n",
      "5829025.254166666\n",
      "E\n",
      "theta\n",
      "[array([3.45416667, 3.32916667, 3.32916667, 3.32916667, 3.14791667,\n",
      "        3.12083333, 2.9125    , 2.875     , 2.875     , 2.83333333,\n",
      "        2.83333333, 2.75      , 2.6625    , 2.6625    , 2.58333333,\n",
      "        2.49958333, 2.49583333, 2.41666667, 2.22916667, 2.1875    ,\n",
      "        1.85416667, 1.83333333, 1.58333333, 1.52083333])\n",
      " 5829025.254166666]\n",
      "E\n",
      "ccccc\n",
      "[array([3.60169633e+11, 3.60169633e+11, 3.60169633e+11, 3.60169633e+11,\n",
      "        3.60169633e+11, 3.60169633e+11, 3.60169633e+11, 3.60169633e+11,\n",
      "        3.60169633e+11, 3.60169633e+11, 3.60169633e+11, 3.60169633e+11,\n",
      "        3.60169633e+11, 3.60169633e+11, 3.60169633e+11, 3.60169633e+11,\n",
      "        3.60169633e+11, 3.60169633e+11, 3.60169633e+11, 3.60169633e+11,\n",
      "        3.60169633e+11, 3.60169633e+11, 3.60169633e+11, 3.60169633e+11])\n",
      " array([1.33478841e+11, 1.33478841e+11, 1.33478841e+11, 1.33478841e+11,\n",
      "        1.33478841e+11, 1.33478841e+11, 1.33478841e+11, 1.33478841e+11,\n",
      "        1.33478841e+11, 1.33478841e+11, 1.33478841e+11, 1.33478841e+11,\n",
      "        1.33478841e+11, 1.33478841e+11, 1.33478841e+11, 1.33478841e+11,\n",
      "        1.33478841e+11, 1.33478841e+11, 1.33478841e+11, 1.33478841e+11,\n",
      "        1.33478841e+11, 1.33478841e+11, 1.33478841e+11, 1.33478841e+11])\n",
      " array([3.99288222e+11, 3.99288222e+11, 3.99288222e+11, 3.99288222e+11,\n",
      "        3.99288222e+11, 3.99288222e+11, 3.99288222e+11, 3.99288222e+11,\n",
      "        3.99288222e+11, 3.99288222e+11, 3.99288222e+11, 3.99288222e+11,\n",
      "        3.99288222e+11, 3.99288222e+11, 3.99288222e+11, 3.99288222e+11,\n",
      "        3.99288222e+11, 3.99288222e+11, 3.99288222e+11, 3.99288222e+11,\n",
      "        3.99288222e+11, 3.99288222e+11, 3.99288222e+11, 3.99288222e+11])\n",
      " array([3.14767356e+11, 3.14767356e+11, 3.14767356e+11, 3.14767356e+11,\n",
      "        3.14767356e+11, 3.14767356e+11, 3.14767356e+11, 3.14767356e+11,\n",
      "        3.14767356e+11, 3.14767356e+11, 3.14767356e+11, 3.14767356e+11,\n",
      "        3.14767356e+11, 3.14767356e+11, 3.14767356e+11, 3.14767356e+11,\n",
      "        3.14767356e+11, 3.14767356e+11, 3.14767356e+11, 3.14767356e+11,\n",
      "        3.14767356e+11, 3.14767356e+11, 3.14767356e+11, 3.14767356e+11])\n",
      " array([3.82815397e+11, 3.82815397e+11, 3.82815397e+11, 3.82815397e+11,\n",
      "        3.82815397e+11, 3.82815397e+11, 3.82815397e+11, 3.82815397e+11,\n",
      "        3.82815397e+11, 3.82815397e+11, 3.82815397e+11, 3.82815397e+11,\n",
      "        3.82815397e+11, 3.82815397e+11, 3.82815397e+11, 3.82815397e+11,\n",
      "        3.82815397e+11, 3.82815397e+11, 3.82815397e+11, 3.82815397e+11,\n",
      "        3.82815397e+11, 3.82815397e+11, 3.82815397e+11, 3.82815397e+11])\n",
      " array([3.55273253e+11, 3.55273253e+11, 3.55273253e+11, 3.55273253e+11,\n",
      "        3.55273253e+11, 3.55273253e+11, 3.55273253e+11, 3.55273253e+11,\n",
      "        3.55273253e+11, 3.55273253e+11, 3.55273253e+11, 3.55273253e+11,\n",
      "        3.55273253e+11, 3.55273253e+11, 3.55273253e+11, 3.55273253e+11,\n",
      "        3.55273253e+11, 3.55273253e+11, 3.55273253e+11, 3.55273253e+11,\n",
      "        3.55273253e+11, 3.55273253e+11, 3.55273253e+11, 3.55273253e+11])\n",
      " array([5.42099342e+11, 5.42099342e+11, 5.42099342e+11, 5.42099342e+11,\n",
      "        5.42099342e+11, 5.42099342e+11, 5.42099342e+11, 5.42099342e+11,\n",
      "        5.42099342e+11, 5.42099342e+11, 5.42099342e+11, 5.42099342e+11,\n",
      "        5.42099342e+11, 5.42099342e+11, 5.42099342e+11, 5.42099342e+11,\n",
      "        5.42099342e+11, 5.42099342e+11, 5.42099342e+11, 5.42099342e+11,\n",
      "        5.42099342e+11, 5.42099342e+11, 5.42099342e+11, 5.42099342e+11])\n",
      " array([2.81163026e+11, 2.81163026e+11, 2.81163026e+11, 2.81163026e+11,\n",
      "        2.81163026e+11, 2.81163026e+11, 2.81163026e+11, 2.81163026e+11,\n",
      "        2.81163026e+11, 2.81163026e+11, 2.81163026e+11, 2.81163026e+11,\n",
      "        2.81163026e+11, 2.81163026e+11, 2.81163026e+11, 2.81163026e+11,\n",
      "        2.81163026e+11, 2.81163026e+11, 2.81163026e+11, 2.81163026e+11,\n",
      "        2.81163026e+11, 2.81163026e+11, 2.81163026e+11, 2.81163026e+11])\n",
      " array([4.43151638e+11, 4.43151638e+11, 4.43151638e+11, 4.43151638e+11,\n",
      "        4.43151638e+11, 4.43151638e+11, 4.43151638e+11, 4.43151638e+11,\n",
      "        4.43151638e+11, 4.43151638e+11, 4.43151638e+11, 4.43151638e+11,\n",
      "        4.43151638e+11, 4.43151638e+11, 4.43151638e+11, 4.43151638e+11,\n",
      "        4.43151638e+11, 4.43151638e+11, 4.43151638e+11, 4.43151638e+11,\n",
      "        4.43151638e+11, 4.43151638e+11, 4.43151638e+11, 4.43151638e+11])\n",
      " array([3.90544685e+11, 3.90544685e+11, 3.90544685e+11, 3.90544685e+11,\n",
      "        3.90544685e+11, 3.90544685e+11, 3.90544685e+11, 3.90544685e+11,\n",
      "        3.90544685e+11, 3.90544685e+11, 3.90544685e+11, 3.90544685e+11,\n",
      "        3.90544685e+11, 3.90544685e+11, 3.90544685e+11, 3.90544685e+11,\n",
      "        3.90544685e+11, 3.90544685e+11, 3.90544685e+11, 3.90544685e+11,\n",
      "        3.90544685e+11, 3.90544685e+11, 3.90544685e+11, 3.90544685e+11])\n",
      " array([5.68329955e+11, 5.68329955e+11, 5.68329955e+11, 5.68329955e+11,\n",
      "        5.68329955e+11, 5.68329955e+11, 5.68329955e+11, 5.68329955e+11,\n",
      "        5.68329955e+11, 5.68329955e+11, 5.68329955e+11, 5.68329955e+11,\n",
      "        5.68329955e+11, 5.68329955e+11, 5.68329955e+11, 5.68329955e+11,\n",
      "        5.68329955e+11, 5.68329955e+11, 5.68329955e+11, 5.68329955e+11,\n",
      "        5.68329955e+11, 5.68329955e+11, 5.68329955e+11, 5.68329955e+11])\n",
      " array([4.31347862e+11, 4.31347862e+11, 4.31347862e+11, 4.31347862e+11,\n",
      "        4.31347862e+11, 4.31347862e+11, 4.31347862e+11, 4.31347862e+11,\n",
      "        4.31347862e+11, 4.31347862e+11, 4.31347862e+11, 4.31347862e+11,\n",
      "        4.31347862e+11, 4.31347862e+11, 4.31347862e+11, 4.31347862e+11,\n",
      "        4.31347862e+11, 4.31347862e+11, 4.31347862e+11, 4.31347862e+11,\n",
      "        4.31347862e+11, 4.31347862e+11, 4.31347862e+11, 4.31347862e+11])\n",
      " array([3.67578326e+11, 3.67578326e+11, 3.67578326e+11, 3.67578326e+11,\n",
      "        3.67578326e+11, 3.67578326e+11, 3.67578326e+11, 3.67578326e+11,\n",
      "        3.67578326e+11, 3.67578326e+11, 3.67578326e+11, 3.67578326e+11,\n",
      "        3.67578326e+11, 3.67578326e+11, 3.67578326e+11, 3.67578326e+11,\n",
      "        3.67578326e+11, 3.67578326e+11, 3.67578326e+11, 3.67578326e+11,\n",
      "        3.67578326e+11, 3.67578326e+11, 3.67578326e+11, 3.67578326e+11])\n",
      " array([4.78149106e+11, 4.78149106e+11, 4.78149106e+11, 4.78149106e+11,\n",
      "        4.78149106e+11, 4.78149106e+11, 4.78149106e+11, 4.78149106e+11,\n",
      "        4.78149106e+11, 4.78149106e+11, 4.78149106e+11, 4.78149106e+11,\n",
      "        4.78149106e+11, 4.78149106e+11, 4.78149106e+11, 4.78149106e+11,\n",
      "        4.78149106e+11, 4.78149106e+11, 4.78149106e+11, 4.78149106e+11,\n",
      "        4.78149106e+11, 4.78149106e+11, 4.78149106e+11, 4.78149106e+11])\n",
      " array([4.89638115e+11, 4.89638115e+11, 4.89638115e+11, 4.89638115e+11,\n",
      "        4.89638115e+11, 4.89638115e+11, 4.89638115e+11, 4.89638115e+11,\n",
      "        4.89638115e+11, 4.89638115e+11, 4.89638115e+11, 4.89638115e+11,\n",
      "        4.89638115e+11, 4.89638115e+11, 4.89638115e+11, 4.89638115e+11,\n",
      "        4.89638115e+11, 4.89638115e+11, 4.89638115e+11, 4.89638115e+11,\n",
      "        4.89638115e+11, 4.89638115e+11, 4.89638115e+11, 4.89638115e+11])\n",
      " array([8.42294143e+11, 8.42294143e+11, 8.42294143e+11, 8.42294143e+11,\n",
      "        8.42294143e+11, 8.42294143e+11, 8.42294143e+11, 8.42294143e+11,\n",
      "        8.42294143e+11, 8.42294143e+11, 8.42294143e+11, 8.42294143e+11,\n",
      "        8.42294143e+11, 8.42294143e+11, 8.42294143e+11, 8.42294143e+11,\n",
      "        8.42294143e+11, 8.42294143e+11, 8.42294143e+11, 8.42294143e+11,\n",
      "        8.42294143e+11, 8.42294143e+11, 8.42294143e+11, 8.42294143e+11])\n",
      " array([5.18783242e+11, 5.18783242e+11, 5.18783242e+11, 5.18783242e+11,\n",
      "        5.18783242e+11, 5.18783242e+11, 5.18783242e+11, 5.18783242e+11,\n",
      "        5.18783242e+11, 5.18783242e+11, 5.18783242e+11, 5.18783242e+11,\n",
      "        5.18783242e+11, 5.18783242e+11, 5.18783242e+11, 5.18783242e+11,\n",
      "        5.18783242e+11, 5.18783242e+11, 5.18783242e+11, 5.18783242e+11,\n",
      "        5.18783242e+11, 5.18783242e+11, 5.18783242e+11, 5.18783242e+11])\n",
      " array([9.72281407e+11, 9.72281407e+11, 9.72281407e+11, 9.72281407e+11,\n",
      "        9.72281407e+11, 9.72281407e+11, 9.72281407e+11, 9.72281407e+11,\n",
      "        9.72281407e+11, 9.72281407e+11, 9.72281407e+11, 9.72281407e+11,\n",
      "        9.72281407e+11, 9.72281407e+11, 9.72281407e+11, 9.72281407e+11,\n",
      "        9.72281407e+11, 9.72281407e+11, 9.72281407e+11, 9.72281407e+11,\n",
      "        9.72281407e+11, 9.72281407e+11, 9.72281407e+11, 9.72281407e+11])\n",
      " array([6.69172094e+11, 6.69172094e+11, 6.69172094e+11, 6.69172094e+11,\n",
      "        6.69172094e+11, 6.69172094e+11, 6.69172094e+11, 6.69172094e+11,\n",
      "        6.69172094e+11, 6.69172094e+11, 6.69172094e+11, 6.69172094e+11,\n",
      "        6.69172094e+11, 6.69172094e+11, 6.69172094e+11, 6.69172094e+11,\n",
      "        6.69172094e+11, 6.69172094e+11, 6.69172094e+11, 6.69172094e+11,\n",
      "        6.69172094e+11, 6.69172094e+11, 6.69172094e+11, 6.69172094e+11])\n",
      " array([1.02590844e+12, 1.02590844e+12, 1.02590844e+12, 1.02590844e+12,\n",
      "        1.02590844e+12, 1.02590844e+12, 1.02590844e+12, 1.02590844e+12,\n",
      "        1.02590844e+12, 1.02590844e+12, 1.02590844e+12, 1.02590844e+12,\n",
      "        1.02590844e+12, 1.02590844e+12, 1.02590844e+12, 1.02590844e+12,\n",
      "        1.02590844e+12, 1.02590844e+12, 1.02590844e+12, 1.02590844e+12,\n",
      "        1.02590844e+12, 1.02590844e+12, 1.02590844e+12, 1.02590844e+12])\n",
      " array([1.08145905e+12, 1.08145905e+12, 1.08145905e+12, 1.08145905e+12,\n",
      "        1.08145905e+12, 1.08145905e+12, 1.08145905e+12, 1.08145905e+12,\n",
      "        1.08145905e+12, 1.08145905e+12, 1.08145905e+12, 1.08145905e+12,\n",
      "        1.08145905e+12, 1.08145905e+12, 1.08145905e+12, 1.08145905e+12,\n",
      "        1.08145905e+12, 1.08145905e+12, 1.08145905e+12, 1.08145905e+12,\n",
      "        1.08145905e+12, 1.08145905e+12, 1.08145905e+12, 1.08145905e+12])\n",
      " array([8.77268296e+11, 8.77268296e+11, 8.77268296e+11, 8.77268296e+11,\n",
      "        8.77268296e+11, 8.77268296e+11, 8.77268296e+11, 8.77268296e+11,\n",
      "        8.77268296e+11, 8.77268296e+11, 8.77268296e+11, 8.77268296e+11,\n",
      "        8.77268296e+11, 8.77268296e+11, 8.77268296e+11, 8.77268296e+11,\n",
      "        8.77268296e+11, 8.77268296e+11, 8.77268296e+11, 8.77268296e+11,\n",
      "        8.77268296e+11, 8.77268296e+11, 8.77268296e+11, 8.77268296e+11])\n",
      " array([8.14897727e+11, 8.14897727e+11, 8.14897727e+11, 8.14897727e+11,\n",
      "        8.14897727e+11, 8.14897727e+11, 8.14897727e+11, 8.14897727e+11,\n",
      "        8.14897727e+11, 8.14897727e+11, 8.14897727e+11, 8.14897727e+11,\n",
      "        8.14897727e+11, 8.14897727e+11, 8.14897727e+11, 8.14897727e+11,\n",
      "        8.14897727e+11, 8.14897727e+11, 8.14897727e+11, 8.14897727e+11,\n",
      "        8.14897727e+11, 8.14897727e+11, 8.14897727e+11, 8.14897727e+11])\n",
      " array([1.39896606e+12, 1.39896606e+12, 1.39896606e+12, 1.39896606e+12,\n",
      "        1.39896606e+12, 1.39896606e+12, 1.39896606e+12, 1.39896606e+12,\n",
      "        1.39896606e+12, 1.39896606e+12, 1.39896606e+12, 1.39896606e+12,\n",
      "        1.39896606e+12, 1.39896606e+12, 1.39896606e+12, 1.39896606e+12,\n",
      "        1.39896606e+12, 1.39896606e+12, 1.39896606e+12, 1.39896606e+12,\n",
      "        1.39896606e+12, 1.39896606e+12, 1.39896606e+12, 1.39896606e+12])]\n",
      "E\n"
     ]
    },
    {
     "name": "stderr",
     "output_type": "stream",
     "text": [
      "/var/folders/zz/zyxvpxvq6csfxvn_n0000j_w0004_q/T/ipykernel_1485/3141178194.py:22: VisibleDeprecationWarning: Creating an ndarray from ragged nested sequences (which is a list-or-tuple of lists-or-tuples-or ndarrays with different lengths or shapes) is deprecated. If you meant to do this, you must specify 'dtype=object' when creating the ndarray.\n",
      "  theta_tmp = np.array([a,b])\n"
     ]
    },
    {
     "ename": "ValueError",
     "evalue": "operands could not be broadcast together with shapes (2,24) (2,) ",
     "output_type": "error",
     "traceback": [
      "\u001b[0;31m---------------------------------------------------------------------------\u001b[0m",
      "\u001b[0;31mValueError\u001b[0m                                Traceback (most recent call last)",
      "\u001b[0;32m/var/folders/zz/zyxvpxvq6csfxvn_n0000j_w0004_q/T/ipykernel_1485/3141178194.py\u001b[0m in \u001b[0;36m<module>\u001b[0;34m\u001b[0m\n\u001b[1;32m     21\u001b[0m     \u001b[0mb\u001b[0m \u001b[0;34m=\u001b[0m \u001b[0malpha\u001b[0m \u001b[0;34m*\u001b[0m \u001b[0;34m(\u001b[0m\u001b[0;36m1\u001b[0m\u001b[0;34m/\u001b[0m\u001b[0mlen\u001b[0m\u001b[0;34m(\u001b[0m\u001b[0mY\u001b[0m\u001b[0;34m)\u001b[0m\u001b[0;34m)\u001b[0m \u001b[0;34m*\u001b[0m \u001b[0mnp\u001b[0m\u001b[0;34m.\u001b[0m\u001b[0msum\u001b[0m\u001b[0;34m(\u001b[0m\u001b[0;34m(\u001b[0m\u001b[0mnp\u001b[0m\u001b[0;34m.\u001b[0m\u001b[0msum\u001b[0m\u001b[0;34m(\u001b[0m\u001b[0mX\u001b[0m \u001b[0;34m*\u001b[0m \u001b[0mtheta\u001b[0m\u001b[0;34m,\u001b[0m \u001b[0maxis\u001b[0m\u001b[0;34m=\u001b[0m\u001b[0;36m1\u001b[0m\u001b[0;34m)\u001b[0m \u001b[0;34m-\u001b[0m \u001b[0my\u001b[0m\u001b[0;34m)\u001b[0m \u001b[0;34m*\u001b[0m \u001b[0mx\u001b[0m\u001b[0;34m)\u001b[0m\u001b[0;34m\u001b[0m\u001b[0;34m\u001b[0m\u001b[0m\n\u001b[1;32m     22\u001b[0m     \u001b[0mtheta_tmp\u001b[0m \u001b[0;34m=\u001b[0m \u001b[0mnp\u001b[0m\u001b[0;34m.\u001b[0m\u001b[0marray\u001b[0m\u001b[0;34m(\u001b[0m\u001b[0;34m[\u001b[0m\u001b[0ma\u001b[0m\u001b[0;34m,\u001b[0m\u001b[0mb\u001b[0m\u001b[0;34m]\u001b[0m\u001b[0;34m)\u001b[0m\u001b[0;34m\u001b[0m\u001b[0;34m\u001b[0m\u001b[0m\n\u001b[0;32m---> 23\u001b[0;31m     \u001b[0mtheta\u001b[0m \u001b[0;34m=\u001b[0m \u001b[0mnp\u001b[0m\u001b[0;34m.\u001b[0m\u001b[0madd\u001b[0m\u001b[0;34m(\u001b[0m\u001b[0mtheta_tmp\u001b[0m\u001b[0;34m,\u001b[0m \u001b[0mtheta\u001b[0m\u001b[0;34m)\u001b[0m\u001b[0;34m\u001b[0m\u001b[0;34m\u001b[0m\u001b[0m\n\u001b[0m\u001b[1;32m     24\u001b[0m     \u001b[0mprint\u001b[0m\u001b[0;34m(\u001b[0m\u001b[0;34m'b'\u001b[0m\u001b[0;34m)\u001b[0m\u001b[0;34m\u001b[0m\u001b[0;34m\u001b[0m\u001b[0m\n\u001b[1;32m     25\u001b[0m     \u001b[0mprint\u001b[0m\u001b[0;34m(\u001b[0m\u001b[0mb\u001b[0m\u001b[0;34m)\u001b[0m\u001b[0;34m\u001b[0m\u001b[0;34m\u001b[0m\u001b[0m\n",
      "\u001b[0;31mValueError\u001b[0m: operands could not be broadcast together with shapes (2,24) (2,) "
     ]
    },
    {
     "data": {
      "image/png": "[encoded data removed]",
      "text/plain": [
       "<Figure size 432x288 with 1 Axes>"
      ]
     },
     "metadata": {
      "needs_background": "light"
     },
     "output_type": "display_data"
    }
   ],
   "source": [
    "plt.plot(x, y, 'o')\n",
    "\n",
    "alpha = -0.01 # Specify the learning rate\n",
    "theta =  np.array([0,0]) # Initial values of theta\n",
    "\n",
    "X = np.c_[np.ones(len(x)),x]\n",
    "Y = np.c_[y]\n",
    "X_1=np.c_[x].T\n",
    "num_iters = 10\n",
    "cost_history=[]\n",
    "theta_history=[]\n",
    "print(theta)\n",
    "for i in range(num_iters):\n",
    "    print('theta')\n",
    "    print(theta)\n",
    "    print('E')\n",
    "    a = alpha * (1/len(Y)) * (np.sum(X * theta, axis=1) - y)\n",
    "    print('ccccc')\n",
    "    print(np.sum(X * theta, axis=1) - y)\n",
    "    print('E')\n",
    "    b = alpha * (1/len(Y)) * np.sum((np.sum(X * theta, axis=1) - y) * x)\n",
    "    theta_tmp = np.array([a,b])\n",
    "    theta = np.add(theta_tmp, theta)\n",
    "    print('b')\n",
    "    print(b)\n",
    "    print('E')\n",
    "#     cost_history.append(cost(X,Y,theta))\n",
    "    theta_history.append(theta)\n",
    "    if i in (1,3,7,10,14,num_iters): \n",
    "        plt.plot(x, a+x*b)\n",
    "        plt.suptitle('Linear regression by gradient descent')\n",
    "        plt.xlabel('x')\n",
    "        plt.ylabel('y')\n",
    "plt.show()\n",
    "print(theta)"
   ]
  },
  {
   "cell_type": "code",
   "execution_count": 69,
   "id": "a8402d55",
   "metadata": {},
   "outputs": [
    {
     "name": "stdout",
     "output_type": "stream",
     "text": [
      "[[8290]\n",
      " [7990]\n",
      " [7990]\n",
      " [7990]\n",
      " [7555]\n",
      " [7490]\n",
      " [6990]\n",
      " [6900]\n",
      " [6900]\n",
      " [6800]\n",
      " [6800]\n",
      " [6600]\n",
      " [6390]\n",
      " [6390]\n",
      " [6200]\n",
      " [5999]\n",
      " [5990]\n",
      " [5800]\n",
      " [5350]\n",
      " [5250]\n",
      " [4450]\n",
      " [4400]\n",
      " [3800]\n",
      " [3650]]\n",
      "[8290 7990 7990 7990 7555 7490 6990 6900 6900 6800 6800 6600 6390 6390\n",
      " 6200 5999 5990 5800 5350 5250 4450 4400 3800 3650]\n",
      "[[8290 7990 7990 7990 7555 7490 6990 6900 6900 6800 6800 6600 6390 6390\n",
      "  6200 5999 5990 5800 5350 5250 4450 4400 3800 3650]]\n",
      "[[[[-5.89117724e+11]\n",
      "   [-5.89117724e+11]\n",
      "   [-5.89117724e+11]\n",
      "   [-5.89117724e+11]\n",
      "   [-5.89117724e+11]\n",
      "   [-5.89117724e+11]\n",
      "   [-5.89117724e+11]\n",
      "   [-5.89117724e+11]\n",
      "   [-5.89117724e+11]\n",
      "   [-5.89117724e+11]\n",
      "   [-5.89117724e+11]\n",
      "   [-5.89117724e+11]\n",
      "   [-5.89117724e+11]\n",
      "   [-5.89117724e+11]\n",
      "   [-5.89117724e+11]\n",
      "   [-5.89117724e+11]\n",
      "   [-5.89117724e+11]\n",
      "   [-5.89117724e+11]\n",
      "   [-5.89117724e+11]\n",
      "   [-5.89117724e+11]\n",
      "   [-5.89117724e+11]\n",
      "   [-5.89117724e+11]\n",
      "   [-5.89117724e+11]\n",
      "   [-5.89117724e+11]]]\n",
      "\n",
      "\n",
      " [[[-7.50391155e+16]\n",
      "   [-7.50391155e+16]\n",
      "   [-7.50391155e+16]\n",
      "   [-7.50391155e+16]\n",
      "   [-7.50391155e+16]\n",
      "   [-7.50391155e+16]\n",
      "   [-7.50391155e+16]\n",
      "   [-7.50391155e+16]\n",
      "   [-7.50391155e+16]\n",
      "   [-7.50391155e+16]\n",
      "   [-7.50391155e+16]\n",
      "   [-7.50391155e+16]\n",
      "   [-7.50391155e+16]\n",
      "   [-7.50391155e+16]\n",
      "   [-7.50391155e+16]\n",
      "   [-7.50391155e+16]\n",
      "   [-7.50391155e+16]\n",
      "   [-7.50391155e+16]\n",
      "   [-7.50391155e+16]\n",
      "   [-7.50391155e+16]\n",
      "   [-7.50391155e+16]\n",
      "   [-7.50391155e+16]\n",
      "   [-7.50391155e+16]\n",
      "   [-7.50391155e+16]]]]\n"
     ]
    }
   ],
   "source": [
    "print(Y)\n",
    "print(y)\n",
    "print(Y.T)\n",
    "print(theta)\n"
   ]
  },
  {
   "cell_type": "code",
   "execution_count": 33,
   "id": "d2a80173",
   "metadata": {},
   "outputs": [
    {
     "data": {
      "text/plain": [
       "500"
      ]
     },
     "execution_count": 33,
     "metadata": {},
     "output_type": "execute_result"
    }
   ],
   "source": [
    "len(Y)"
   ]
  },
  {
   "cell_type": "code",
   "execution_count": null,
   "id": "c168a00a",
   "metadata": {},
   "outputs": [],
   "source": []
  },
  {
   "cell_type": "code",
   "execution_count": null,
   "id": "9fb59b48",
   "metadata": {},
   "outputs": [],
   "source": []
  },
  {
   "cell_type": "code",
   "execution_count": null,
   "id": "579d2881",
   "metadata": {},
   "outputs": [],
   "source": []
  },
  {
   "cell_type": "code",
   "execution_count": null,
   "id": "6e5cc363",
   "metadata": {},
   "outputs": [],
   "source": []
  }
 ],
 "metadata": {
  "kernelspec": {
   "display_name": "Python 3 (ipykernel)",
   "language": "python",
   "name": "python3"
  },
  "language_info": {
   "codemirror_mode": {
    "name": "ipython",
    "version": 3
   },
   "file_extension": ".py",
   "mimetype": "text/x-python",
   "name": "python",
   "nbconvert_exporter": "python",
   "pygments_lexer": "ipython3",
   "version": "3.9.5"
  }
 },
 "nbformat": 4,
 "nbformat_minor": 5
}
